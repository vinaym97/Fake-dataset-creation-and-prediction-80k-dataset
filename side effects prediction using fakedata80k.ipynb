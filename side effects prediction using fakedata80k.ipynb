{
 "cells": [
  {
   "cell_type": "code",
   "execution_count": 1,
   "metadata": {},
   "outputs": [],
   "source": [
    "import pandas as pd\n",
    "import numpy as np\n",
    "import matplotlib.pyplot as plt\n",
    "# import seaborn as sns\n",
    "# import dtale"
   ]
  },
  {
   "cell_type": "code",
   "execution_count": 2,
   "metadata": {},
   "outputs": [],
   "source": [
    "data=pd.read_csv(\"newnewdrug.csv\")"
   ]
  },
  {
   "cell_type": "code",
   "execution_count": 3,
   "metadata": {},
   "outputs": [
    {
     "data": {
      "text/html": [
       "<div>\n",
       "<style scoped>\n",
       "    .dataframe tbody tr th:only-of-type {\n",
       "        vertical-align: middle;\n",
       "    }\n",
       "\n",
       "    .dataframe tbody tr th {\n",
       "        vertical-align: top;\n",
       "    }\n",
       "\n",
       "    .dataframe thead th {\n",
       "        text-align: right;\n",
       "    }\n",
       "</style>\n",
       "<table border=\"1\" class=\"dataframe\">\n",
       "  <thead>\n",
       "    <tr style=\"text-align: right;\">\n",
       "      <th></th>\n",
       "      <th>Name</th>\n",
       "      <th>Age</th>\n",
       "      <th>Race</th>\n",
       "      <th>gender</th>\n",
       "      <th>sideEffects</th>\n",
       "      <th>drugname</th>\n",
       "    </tr>\n",
       "  </thead>\n",
       "  <tbody>\n",
       "    <tr>\n",
       "      <th>0</th>\n",
       "      <td>James Green</td>\n",
       "      <td>47</td>\n",
       "      <td>Hispanic</td>\n",
       "      <td>F</td>\n",
       "      <td>Extremely Severe Side Effects</td>\n",
       "      <td>solodyn</td>\n",
       "    </tr>\n",
       "    <tr>\n",
       "      <th>1</th>\n",
       "      <td>Mr. Mason Mcbride</td>\n",
       "      <td>44</td>\n",
       "      <td>White</td>\n",
       "      <td>F</td>\n",
       "      <td>Severe Side Effects</td>\n",
       "      <td>estrace</td>\n",
       "    </tr>\n",
       "    <tr>\n",
       "      <th>2</th>\n",
       "      <td>Jason King</td>\n",
       "      <td>22</td>\n",
       "      <td>Hispanic</td>\n",
       "      <td>M</td>\n",
       "      <td>Severe Side Effects</td>\n",
       "      <td>pamelor</td>\n",
       "    </tr>\n",
       "    <tr>\n",
       "      <th>3</th>\n",
       "      <td>Stephanie Smith</td>\n",
       "      <td>41</td>\n",
       "      <td>Black</td>\n",
       "      <td>M</td>\n",
       "      <td>Severe Side Effects</td>\n",
       "      <td>renova</td>\n",
       "    </tr>\n",
       "    <tr>\n",
       "      <th>4</th>\n",
       "      <td>Diane Aguilar</td>\n",
       "      <td>58</td>\n",
       "      <td>White</td>\n",
       "      <td>M</td>\n",
       "      <td>Extremely Severe Side Effects</td>\n",
       "      <td>lexapro</td>\n",
       "    </tr>\n",
       "  </tbody>\n",
       "</table>\n",
       "</div>"
      ],
      "text/plain": [
       "                Name  Age      Race gender                    sideEffects  \\\n",
       "0        James Green   47  Hispanic      F  Extremely Severe Side Effects   \n",
       "1  Mr. Mason Mcbride   44     White      F            Severe Side Effects   \n",
       "2         Jason King   22  Hispanic      M            Severe Side Effects   \n",
       "3    Stephanie Smith   41     Black      M            Severe Side Effects   \n",
       "4      Diane Aguilar   58     White      M  Extremely Severe Side Effects   \n",
       "\n",
       "  drugname  \n",
       "0  solodyn  \n",
       "1  estrace  \n",
       "2  pamelor  \n",
       "3   renova  \n",
       "4  lexapro  "
      ]
     },
     "execution_count": 3,
     "metadata": {},
     "output_type": "execute_result"
    }
   ],
   "source": [
    "data.head()"
   ]
  },
  {
   "cell_type": "code",
   "execution_count": 4,
   "metadata": {},
   "outputs": [
    {
     "data": {
      "text/plain": [
       "(80000, 6)"
      ]
     },
     "execution_count": 4,
     "metadata": {},
     "output_type": "execute_result"
    }
   ],
   "source": [
    "data.shape"
   ]
  },
  {
   "cell_type": "code",
   "execution_count": 5,
   "metadata": {},
   "outputs": [],
   "source": [
    "# dtale.show(data)"
   ]
  },
  {
   "cell_type": "code",
   "execution_count": 6,
   "metadata": {},
   "outputs": [
    {
     "data": {
      "text/plain": [
       "Name           0\n",
       "Age            0\n",
       "Race           0\n",
       "gender         0\n",
       "sideEffects    0\n",
       "drugname       0\n",
       "dtype: int64"
      ]
     },
     "execution_count": 6,
     "metadata": {},
     "output_type": "execute_result"
    }
   ],
   "source": [
    "data.isna().sum()"
   ]
  },
  {
   "cell_type": "code",
   "execution_count": 7,
   "metadata": {},
   "outputs": [
    {
     "name": "stdout",
     "output_type": "stream",
     "text": [
      "Name 59569\n",
      "Age 49\n",
      "Race 4\n",
      "gender 2\n",
      "sideEffects 5\n",
      "drugname 502\n"
     ]
    }
   ],
   "source": [
    "for i in data.columns:\n",
    "    print(i,data[i].nunique())"
   ]
  },
  {
   "cell_type": "code",
   "execution_count": 8,
   "metadata": {},
   "outputs": [],
   "source": [
    "data.drop('Name',axis=1,inplace=True)"
   ]
  },
  {
   "cell_type": "code",
   "execution_count": 9,
   "metadata": {},
   "outputs": [],
   "source": [
    "onehot=data[['gender','Race']]"
   ]
  },
  {
   "cell_type": "code",
   "execution_count": 10,
   "metadata": {},
   "outputs": [],
   "source": [
    "onehot=pd.get_dummies(onehot)"
   ]
  },
  {
   "cell_type": "code",
   "execution_count": 11,
   "metadata": {},
   "outputs": [],
   "source": [
    "data_conc=pd.concat([data,onehot],axis=1)"
   ]
  },
  {
   "cell_type": "code",
   "execution_count": 12,
   "metadata": {},
   "outputs": [
    {
     "data": {
      "text/html": [
       "<div>\n",
       "<style scoped>\n",
       "    .dataframe tbody tr th:only-of-type {\n",
       "        vertical-align: middle;\n",
       "    }\n",
       "\n",
       "    .dataframe tbody tr th {\n",
       "        vertical-align: top;\n",
       "    }\n",
       "\n",
       "    .dataframe thead th {\n",
       "        text-align: right;\n",
       "    }\n",
       "</style>\n",
       "<table border=\"1\" class=\"dataframe\">\n",
       "  <thead>\n",
       "    <tr style=\"text-align: right;\">\n",
       "      <th></th>\n",
       "      <th>Age</th>\n",
       "      <th>Race</th>\n",
       "      <th>gender</th>\n",
       "      <th>sideEffects</th>\n",
       "      <th>drugname</th>\n",
       "      <th>gender_F</th>\n",
       "      <th>gender_M</th>\n",
       "      <th>Race_Asian</th>\n",
       "      <th>Race_Black</th>\n",
       "      <th>Race_Hispanic</th>\n",
       "      <th>Race_White</th>\n",
       "    </tr>\n",
       "  </thead>\n",
       "  <tbody>\n",
       "    <tr>\n",
       "      <th>0</th>\n",
       "      <td>47</td>\n",
       "      <td>Hispanic</td>\n",
       "      <td>F</td>\n",
       "      <td>Extremely Severe Side Effects</td>\n",
       "      <td>solodyn</td>\n",
       "      <td>1</td>\n",
       "      <td>0</td>\n",
       "      <td>0</td>\n",
       "      <td>0</td>\n",
       "      <td>1</td>\n",
       "      <td>0</td>\n",
       "    </tr>\n",
       "    <tr>\n",
       "      <th>1</th>\n",
       "      <td>44</td>\n",
       "      <td>White</td>\n",
       "      <td>F</td>\n",
       "      <td>Severe Side Effects</td>\n",
       "      <td>estrace</td>\n",
       "      <td>1</td>\n",
       "      <td>0</td>\n",
       "      <td>0</td>\n",
       "      <td>0</td>\n",
       "      <td>0</td>\n",
       "      <td>1</td>\n",
       "    </tr>\n",
       "    <tr>\n",
       "      <th>2</th>\n",
       "      <td>22</td>\n",
       "      <td>Hispanic</td>\n",
       "      <td>M</td>\n",
       "      <td>Severe Side Effects</td>\n",
       "      <td>pamelor</td>\n",
       "      <td>0</td>\n",
       "      <td>1</td>\n",
       "      <td>0</td>\n",
       "      <td>0</td>\n",
       "      <td>1</td>\n",
       "      <td>0</td>\n",
       "    </tr>\n",
       "    <tr>\n",
       "      <th>3</th>\n",
       "      <td>41</td>\n",
       "      <td>Black</td>\n",
       "      <td>M</td>\n",
       "      <td>Severe Side Effects</td>\n",
       "      <td>renova</td>\n",
       "      <td>0</td>\n",
       "      <td>1</td>\n",
       "      <td>0</td>\n",
       "      <td>1</td>\n",
       "      <td>0</td>\n",
       "      <td>0</td>\n",
       "    </tr>\n",
       "    <tr>\n",
       "      <th>4</th>\n",
       "      <td>58</td>\n",
       "      <td>White</td>\n",
       "      <td>M</td>\n",
       "      <td>Extremely Severe Side Effects</td>\n",
       "      <td>lexapro</td>\n",
       "      <td>0</td>\n",
       "      <td>1</td>\n",
       "      <td>0</td>\n",
       "      <td>0</td>\n",
       "      <td>0</td>\n",
       "      <td>1</td>\n",
       "    </tr>\n",
       "  </tbody>\n",
       "</table>\n",
       "</div>"
      ],
      "text/plain": [
       "   Age      Race gender                    sideEffects drugname  gender_F  \\\n",
       "0   47  Hispanic      F  Extremely Severe Side Effects  solodyn         1   \n",
       "1   44     White      F            Severe Side Effects  estrace         1   \n",
       "2   22  Hispanic      M            Severe Side Effects  pamelor         0   \n",
       "3   41     Black      M            Severe Side Effects   renova         0   \n",
       "4   58     White      M  Extremely Severe Side Effects  lexapro         0   \n",
       "\n",
       "   gender_M  Race_Asian  Race_Black  Race_Hispanic  Race_White  \n",
       "0         0           0           0              1           0  \n",
       "1         0           0           0              0           1  \n",
       "2         1           0           0              1           0  \n",
       "3         1           0           1              0           0  \n",
       "4         1           0           0              0           1  "
      ]
     },
     "execution_count": 12,
     "metadata": {},
     "output_type": "execute_result"
    }
   ],
   "source": [
    "data_conc.head()"
   ]
  },
  {
   "cell_type": "code",
   "execution_count": 13,
   "metadata": {},
   "outputs": [],
   "source": [
    "data_conc.drop(['gender','Race'],axis=1,inplace=True)"
   ]
  },
  {
   "cell_type": "code",
   "execution_count": 14,
   "metadata": {},
   "outputs": [
    {
     "data": {
      "text/plain": [
       "Index(['Age', 'sideEffects', 'drugname', 'gender_F', 'gender_M', 'Race_Asian',\n",
       "       'Race_Black', 'Race_Hispanic', 'Race_White'],\n",
       "      dtype='object')"
      ]
     },
     "execution_count": 14,
     "metadata": {},
     "output_type": "execute_result"
    }
   ],
   "source": [
    "data_conc.columns"
   ]
  },
  {
   "cell_type": "code",
   "execution_count": 15,
   "metadata": {},
   "outputs": [],
   "source": [
    "cols=['drugname']"
   ]
  },
  {
   "cell_type": "code",
   "execution_count": 16,
   "metadata": {},
   "outputs": [],
   "source": [
    "for x in cols:\n",
    "    data_conc[x]=pd.factorize(data_conc[x])[0]"
   ]
  },
  {
   "cell_type": "code",
   "execution_count": 17,
   "metadata": {},
   "outputs": [
    {
     "data": {
      "text/html": [
       "<div>\n",
       "<style scoped>\n",
       "    .dataframe tbody tr th:only-of-type {\n",
       "        vertical-align: middle;\n",
       "    }\n",
       "\n",
       "    .dataframe tbody tr th {\n",
       "        vertical-align: top;\n",
       "    }\n",
       "\n",
       "    .dataframe thead th {\n",
       "        text-align: right;\n",
       "    }\n",
       "</style>\n",
       "<table border=\"1\" class=\"dataframe\">\n",
       "  <thead>\n",
       "    <tr style=\"text-align: right;\">\n",
       "      <th></th>\n",
       "      <th>Age</th>\n",
       "      <th>sideEffects</th>\n",
       "      <th>drugname</th>\n",
       "      <th>gender_F</th>\n",
       "      <th>gender_M</th>\n",
       "      <th>Race_Asian</th>\n",
       "      <th>Race_Black</th>\n",
       "      <th>Race_Hispanic</th>\n",
       "      <th>Race_White</th>\n",
       "    </tr>\n",
       "  </thead>\n",
       "  <tbody>\n",
       "    <tr>\n",
       "      <th>0</th>\n",
       "      <td>47</td>\n",
       "      <td>Extremely Severe Side Effects</td>\n",
       "      <td>0</td>\n",
       "      <td>1</td>\n",
       "      <td>0</td>\n",
       "      <td>0</td>\n",
       "      <td>0</td>\n",
       "      <td>1</td>\n",
       "      <td>0</td>\n",
       "    </tr>\n",
       "    <tr>\n",
       "      <th>1</th>\n",
       "      <td>44</td>\n",
       "      <td>Severe Side Effects</td>\n",
       "      <td>1</td>\n",
       "      <td>1</td>\n",
       "      <td>0</td>\n",
       "      <td>0</td>\n",
       "      <td>0</td>\n",
       "      <td>0</td>\n",
       "      <td>1</td>\n",
       "    </tr>\n",
       "    <tr>\n",
       "      <th>2</th>\n",
       "      <td>22</td>\n",
       "      <td>Severe Side Effects</td>\n",
       "      <td>2</td>\n",
       "      <td>0</td>\n",
       "      <td>1</td>\n",
       "      <td>0</td>\n",
       "      <td>0</td>\n",
       "      <td>1</td>\n",
       "      <td>0</td>\n",
       "    </tr>\n",
       "    <tr>\n",
       "      <th>3</th>\n",
       "      <td>41</td>\n",
       "      <td>Severe Side Effects</td>\n",
       "      <td>3</td>\n",
       "      <td>0</td>\n",
       "      <td>1</td>\n",
       "      <td>0</td>\n",
       "      <td>1</td>\n",
       "      <td>0</td>\n",
       "      <td>0</td>\n",
       "    </tr>\n",
       "    <tr>\n",
       "      <th>4</th>\n",
       "      <td>58</td>\n",
       "      <td>Extremely Severe Side Effects</td>\n",
       "      <td>4</td>\n",
       "      <td>0</td>\n",
       "      <td>1</td>\n",
       "      <td>0</td>\n",
       "      <td>0</td>\n",
       "      <td>0</td>\n",
       "      <td>1</td>\n",
       "    </tr>\n",
       "  </tbody>\n",
       "</table>\n",
       "</div>"
      ],
      "text/plain": [
       "   Age                    sideEffects  drugname  gender_F  gender_M  \\\n",
       "0   47  Extremely Severe Side Effects         0         1         0   \n",
       "1   44            Severe Side Effects         1         1         0   \n",
       "2   22            Severe Side Effects         2         0         1   \n",
       "3   41            Severe Side Effects         3         0         1   \n",
       "4   58  Extremely Severe Side Effects         4         0         1   \n",
       "\n",
       "   Race_Asian  Race_Black  Race_Hispanic  Race_White  \n",
       "0           0           0              1           0  \n",
       "1           0           0              0           1  \n",
       "2           0           0              1           0  \n",
       "3           0           1              0           0  \n",
       "4           0           0              0           1  "
      ]
     },
     "execution_count": 17,
     "metadata": {},
     "output_type": "execute_result"
    }
   ],
   "source": [
    "data_conc.head()"
   ]
  },
  {
   "cell_type": "code",
   "execution_count": 18,
   "metadata": {},
   "outputs": [
    {
     "data": {
      "text/plain": [
       "Index(['Age', 'sideEffects', 'drugname', 'gender_F', 'gender_M', 'Race_Asian',\n",
       "       'Race_Black', 'Race_Hispanic', 'Race_White'],\n",
       "      dtype='object')"
      ]
     },
     "execution_count": 18,
     "metadata": {},
     "output_type": "execute_result"
    }
   ],
   "source": [
    "data_conc.columns"
   ]
  },
  {
   "cell_type": "code",
   "execution_count": 19,
   "metadata": {},
   "outputs": [],
   "source": [
    "x=data_conc.drop('sideEffects',axis=1)\n",
    "y=data_conc['sideEffects']"
   ]
  },
  {
   "cell_type": "code",
   "execution_count": 25,
   "metadata": {},
   "outputs": [],
   "source": [
    "from sklearn.preprocessing import StandardScaler\n",
    "scaler=StandardScaler()\n",
    "x=scaler.fit_transform(x)"
   ]
  },
  {
   "cell_type": "code",
   "execution_count": 20,
   "metadata": {},
   "outputs": [],
   "source": [
    "from sklearn.model_selection import train_test_split\n",
    "X_train,X_test,y_train,y_test = train_test_split(x,y,random_state=42,test_size=0.3)"
   ]
  },
  {
   "cell_type": "code",
   "execution_count": 21,
   "metadata": {},
   "outputs": [],
   "source": [
    "# dtale.show(x)"
   ]
  },
  {
   "cell_type": "code",
   "execution_count": 22,
   "metadata": {},
   "outputs": [],
   "source": [
    "from sklearn.naive_bayes import GaussianNB\n",
    "from sklearn.naive_bayes import BernoulliNB\n",
    "from sklearn.linear_model import LogisticRegression\n",
    "from sklearn.svm import SVC\n",
    "from sklearn.ensemble import RandomForestClassifier\n",
    "from sklearn.tree import DecisionTreeClassifier\n",
    "from sklearn.neighbors import KNeighborsClassifier\n",
    "from sklearn.metrics import confusion_matrix,accuracy_score,classification_report\n",
    "from sklearn.ensemble import GradientBoostingClassifier\n",
    "from xgboost import XGBClassifier"
   ]
  },
  {
   "cell_type": "markdown",
   "metadata": {},
   "source": [
    "## Data modeling"
   ]
  },
  {
   "cell_type": "markdown",
   "metadata": {},
   "source": [
    "### Logistic regression"
   ]
  },
  {
   "cell_type": "code",
   "execution_count": 23,
   "metadata": {},
   "outputs": [
    {
     "name": "stderr",
     "output_type": "stream",
     "text": [
      "C:\\Users\\Vinay\\anaconda3\\lib\\site-packages\\sklearn\\linear_model\\_logistic.py:762: ConvergenceWarning: lbfgs failed to converge (status=1):\n",
      "STOP: TOTAL NO. of ITERATIONS REACHED LIMIT.\n",
      "\n",
      "Increase the number of iterations (max_iter) or scale the data as shown in:\n",
      "    https://scikit-learn.org/stable/modules/preprocessing.html\n",
      "Please also refer to the documentation for alternative solver options:\n",
      "    https://scikit-learn.org/stable/modules/linear_model.html#logistic-regression\n",
      "  n_iter_i = _check_optimize_result(\n"
     ]
    }
   ],
   "source": [
    "#logistic regression\n",
    "from sklearn.linear_model import LogisticRegression\n",
    "logit_model = LogisticRegression()\n",
    "logit_model.fit(X_train,y_train)\n",
    "y_pred = logit_model.predict(X_test)"
   ]
  },
  {
   "cell_type": "code",
   "execution_count": 24,
   "metadata": {},
   "outputs": [
    {
     "name": "stdout",
     "output_type": "stream",
     "text": [
      "Classification report :\n",
      "                                precision    recall  f1-score   support\n",
      "\n",
      "Extremely Severe Side Effects       0.28      0.64      0.39      4813\n",
      "            Mild Side Effects       0.20      0.02      0.04      4674\n",
      "        Moderate Side Effects       0.18      0.05      0.08      4796\n",
      "              No Side Effects       0.27      0.52      0.36      4874\n",
      "          Severe Side Effects       0.21      0.07      0.11      4843\n",
      "\n",
      "                     accuracy                           0.26     24000\n",
      "                    macro avg       0.23      0.26      0.20     24000\n",
      "                 weighted avg       0.23      0.26      0.20     24000\n",
      "\n"
     ]
    }
   ],
   "source": [
    "from sklearn.metrics import confusion_matrix,accuracy_score,classification_report\n",
    "# print('Confusion_matrix is :\\n',confusion_matrix(y_test,y_pred))\n",
    "print('Classification report :\\n' ,classification_report(y_test,y_pred))"
   ]
  },
  {
   "cell_type": "markdown",
   "metadata": {},
   "source": [
    "### Gussian Naive Bayes Classifier"
   ]
  },
  {
   "cell_type": "code",
   "execution_count": 25,
   "metadata": {},
   "outputs": [
    {
     "data": {
      "text/plain": [
       "GaussianNB()"
      ]
     },
     "execution_count": 25,
     "metadata": {},
     "output_type": "execute_result"
    }
   ],
   "source": [
    "classifier=GaussianNB()\n",
    "classifier.fit(X_train,y_train)"
   ]
  },
  {
   "cell_type": "code",
   "execution_count": 26,
   "metadata": {},
   "outputs": [
    {
     "name": "stdout",
     "output_type": "stream",
     "text": [
      "Classification report :\n",
      "                                precision    recall  f1-score   support\n",
      "\n",
      "Extremely Severe Side Effects       0.26      0.75      0.39      4813\n",
      "            Mild Side Effects       0.22      0.10      0.13      4674\n",
      "        Moderate Side Effects       0.19      0.03      0.06      4796\n",
      "              No Side Effects       0.31      0.37      0.34      4874\n",
      "          Severe Side Effects       0.24      0.08      0.12      4843\n",
      "\n",
      "                     accuracy                           0.27     24000\n",
      "                    macro avg       0.24      0.27      0.21     24000\n",
      "                 weighted avg       0.24      0.27      0.21     24000\n",
      "\n"
     ]
    }
   ],
   "source": [
    "y_pred=classifier.predict(X_test)\n",
    "print('Classification report :\\n' ,classification_report(y_test,y_pred))"
   ]
  },
  {
   "cell_type": "markdown",
   "metadata": {},
   "source": [
    "**Bernouli Naive Bayes Classifier**"
   ]
  },
  {
   "cell_type": "code",
   "execution_count": 27,
   "metadata": {},
   "outputs": [
    {
     "name": "stdout",
     "output_type": "stream",
     "text": [
      "classification report : \n",
      "                                precision    recall  f1-score   support\n",
      "\n",
      "Extremely Severe Side Effects       0.20      0.25      0.22      4813\n",
      "            Mild Side Effects       0.20      0.13      0.16      4674\n",
      "        Moderate Side Effects       0.20      0.38      0.26      4796\n",
      "              No Side Effects       0.21      0.13      0.16      4874\n",
      "          Severe Side Effects       0.20      0.12      0.15      4843\n",
      "\n",
      "                     accuracy                           0.20     24000\n",
      "                    macro avg       0.20      0.20      0.19     24000\n",
      "                 weighted avg       0.20      0.20      0.19     24000\n",
      "\n"
     ]
    }
   ],
   "source": [
    "classifier=BernoulliNB()\n",
    "classifier.fit(X_train,y_train)\n",
    "y_pred=classifier.predict(X_test)\n",
    "print(\"classification report : \\n\",classification_report(y_test,y_pred))"
   ]
  },
  {
   "cell_type": "markdown",
   "metadata": {},
   "source": [
    "**SVM**"
   ]
  },
  {
   "cell_type": "markdown",
   "metadata": {},
   "source": [
    "**Linear SVM**"
   ]
  },
  {
   "cell_type": "code",
   "execution_count": null,
   "metadata": {},
   "outputs": [],
   "source": [
    "classifier=SVC(kernel=\"linear\",random_state=123)\n",
    "classifier.fit(X_train,y_train)\n",
    "y_pred=classifier.predict(X_test)\n",
    "print(\"Classification report:\\n\",classification_report(y_test,y_pred))"
   ]
  },
  {
   "cell_type": "markdown",
   "metadata": {},
   "source": [
    "**POLYNOMIAL SVM**"
   ]
  },
  {
   "cell_type": "code",
   "execution_count": null,
   "metadata": {},
   "outputs": [],
   "source": [
    "svm_po=SVC(kernel='poly',degree=3,random_state=123)\n",
    "svm_po.fit(X_train,y_train)\n",
    "y_pred=svm_po.predict(X_test)\n",
    "print(\"Classification report :\\n\",classification_report(y_test,y_pred))"
   ]
  },
  {
   "cell_type": "markdown",
   "metadata": {},
   "source": [
    "**Radial SVM**"
   ]
  },
  {
   "cell_type": "code",
   "execution_count": null,
   "metadata": {},
   "outputs": [],
   "source": [
    "svm_ra=SVC(kernel='rbf',random_state=123)\n",
    "svm_ra.fit(X_train,y_train)\n",
    "y_pred=svm_ra.predict(X_test)\n",
    "print(\"Classification report \\n\",classification_report(y_test,y_pred))"
   ]
  },
  {
   "cell_type": "markdown",
   "metadata": {},
   "source": [
    "**KNN algorithm**"
   ]
  },
  {
   "cell_type": "code",
   "execution_count": 34,
   "metadata": {},
   "outputs": [],
   "source": [
    "acc_values=[]\n",
    "neighbors=np.arange(1,16)\n",
    "for i in neighbors:\n",
    "    classifier=KNeighborsClassifier(n_neighbors=i,metric='minkowski')\n",
    "    classifier.fit(X_train,y_train)\n",
    "    y_pred=classifier.predict(X_test)\n",
    "    acc=accuracy_score(y_test,y_pred)\n",
    "    acc_values.append(acc)"
   ]
  },
  {
   "cell_type": "code",
   "execution_count": 35,
   "metadata": {},
   "outputs": [
    {
     "data": {
      "image/png": "[encoded data removed]",
      "text/plain": [
       "<Figure size 432x288 with 1 Axes>"
      ]
     },
     "metadata": {
      "needs_background": "light"
     },
     "output_type": "display_data"
    }
   ],
   "source": [
    "plt.plot(range(1,16),acc_values,'-o')\n",
    "plt.show()"
   ]
  },
  {
   "cell_type": "code",
   "execution_count": 37,
   "metadata": {},
   "outputs": [
    {
     "name": "stdout",
     "output_type": "stream",
     "text": [
      "Classification report\n",
      "                                precision    recall  f1-score   support\n",
      "\n",
      "Extremely Severe Side Effects       0.38      0.66      0.49      4813\n",
      "            Mild Side Effects       0.33      0.29      0.31      4674\n",
      "        Moderate Side Effects       0.31      0.27      0.29      4796\n",
      "              No Side Effects       0.43      0.29      0.35      4874\n",
      "          Severe Side Effects       0.36      0.31      0.33      4843\n",
      "\n",
      "                     accuracy                           0.36     24000\n",
      "                    macro avg       0.36      0.36      0.35     24000\n",
      "                 weighted avg       0.36      0.36      0.35     24000\n",
      "\n"
     ]
    }
   ],
   "source": [
    "classifier=KNeighborsClassifier(n_neighbors=11,metric='minkowski')\n",
    "classifier.fit(X_train,y_train)\n",
    "y_pred=classifier.predict(X_test)\n",
    "print(\"Classification report\\n\",classification_report(y_test,y_pred))"
   ]
  },
  {
   "cell_type": "markdown",
   "metadata": {},
   "source": [
    "**Decision Tree**"
   ]
  },
  {
   "cell_type": "code",
   "execution_count": 31,
   "metadata": {},
   "outputs": [
    {
     "name": "stdout",
     "output_type": "stream",
     "text": [
      "Classification report: \n",
      "                                precision    recall  f1-score   support\n",
      "\n",
      "Extremely Severe Side Effects       0.47      0.53      0.50      4813\n",
      "            Mild Side Effects       0.41      0.44      0.43      4674\n",
      "        Moderate Side Effects       0.39      0.39      0.39      4796\n",
      "              No Side Effects       0.51      0.49      0.50      4874\n",
      "          Severe Side Effects       0.46      0.40      0.43      4843\n",
      "\n",
      "                     accuracy                           0.45     24000\n",
      "                    macro avg       0.45      0.45      0.45     24000\n",
      "                 weighted avg       0.45      0.45      0.45     24000\n",
      "\n"
     ]
    }
   ],
   "source": [
    "clf=DecisionTreeClassifier(random_state=123)\n",
    "clf.fit(X_train,y_train)\n",
    "y_pred=clf.predict(X_test)\n",
    "print(\"Classification report: \\n\",classification_report(y_test,y_pred))"
   ]
  },
  {
   "cell_type": "code",
   "execution_count": 32,
   "metadata": {},
   "outputs": [
    {
     "name": "stdout",
     "output_type": "stream",
     "text": [
      "Classification matrix: \n",
      "                                precision    recall  f1-score   support\n",
      "\n",
      "Extremely Severe Side Effects       0.45      0.70      0.55      4813\n",
      "            Mild Side Effects       0.47      0.40      0.43      4674\n",
      "        Moderate Side Effects       0.42      0.38      0.40      4796\n",
      "              No Side Effects       0.61      0.45      0.51      4874\n",
      "          Severe Side Effects       0.47      0.44      0.45      4843\n",
      "\n",
      "                     accuracy                           0.47     24000\n",
      "                    macro avg       0.48      0.47      0.47     24000\n",
      "                 weighted avg       0.48      0.47      0.47     24000\n",
      "\n"
     ]
    }
   ],
   "source": [
    "clf=DecisionTreeClassifier(criterion='entropy',random_state=123,min_samples_split=30,max_depth=300)\n",
    "clf.fit(X_train,y_train)\n",
    "y_pred=clf.predict(X_test)\n",
    "print(\"Classification matrix: \\n\",classification_report(y_test,y_pred))"
   ]
  },
  {
   "cell_type": "markdown",
   "metadata": {},
   "source": [
    "**Random forest Classifier**"
   ]
  },
  {
   "cell_type": "code",
   "execution_count": 33,
   "metadata": {},
   "outputs": [
    {
     "name": "stdout",
     "output_type": "stream",
     "text": [
      "Classification report : \n",
      "                                precision    recall  f1-score   support\n",
      "\n",
      "Extremely Severe Side Effects       0.35      0.36      0.36      4813\n",
      "            Mild Side Effects       0.26      0.26      0.26      4674\n",
      "        Moderate Side Effects       0.27      0.27      0.27      4796\n",
      "              No Side Effects       0.31      0.30      0.31      4874\n",
      "          Severe Side Effects       0.29      0.30      0.30      4843\n",
      "\n",
      "                     accuracy                           0.30     24000\n",
      "                    macro avg       0.30      0.30      0.30     24000\n",
      "                 weighted avg       0.30      0.30      0.30     24000\n",
      "\n"
     ]
    }
   ],
   "source": [
    "rf=RandomForestClassifier(random_state=123)\n",
    "rf.fit(X_train,y_train)\n",
    "y_pred=rf.predict(X_test)\n",
    "print(\"Classification report : \\n\",classification_report(y_test,y_pred))"
   ]
  },
  {
   "cell_type": "markdown",
   "metadata": {},
   "source": [
    "**Gradient Boosting**"
   ]
  },
  {
   "cell_type": "code",
   "execution_count": 28,
   "metadata": {},
   "outputs": [
    {
     "name": "stdout",
     "output_type": "stream",
     "text": [
      "Classification report :\n",
      "                                precision    recall  f1-score   support\n",
      "\n",
      "Extremely Severe Side Effects       0.39      0.82      0.53      4813\n",
      "            Mild Side Effects       0.47      0.32      0.38      4674\n",
      "        Moderate Side Effects       0.41      0.26      0.32      4796\n",
      "              No Side Effects       0.62      0.37      0.46      4874\n",
      "          Severe Side Effects       0.42      0.41      0.42      4843\n",
      "\n",
      "                     accuracy                           0.44     24000\n",
      "                    macro avg       0.46      0.44      0.42     24000\n",
      "                 weighted avg       0.46      0.44      0.42     24000\n",
      "\n"
     ]
    }
   ],
   "source": [
    "classifier=GradientBoostingClassifier(random_state=123)\n",
    "classifier.fit(X_train,y_train)\n",
    "y_pred=classifier.predict(X_test)\n",
    "print(\"Classification report :\\n\",classification_report(y_test,y_pred))"
   ]
  },
  {
   "cell_type": "markdown",
   "metadata": {},
   "source": [
    "**Xg Boost**"
   ]
  },
  {
   "cell_type": "code",
   "execution_count": 29,
   "metadata": {},
   "outputs": [
    {
     "name": "stderr",
     "output_type": "stream",
     "text": [
      "C:\\Users\\Vinay\\anaconda3\\lib\\site-packages\\xgboost\\sklearn.py:888: UserWarning: The use of label encoder in XGBClassifier is deprecated and will be removed in a future release. To remove this warning, do the following: 1) Pass option use_label_encoder=False when constructing XGBClassifier object; and 2) Encode your labels (y) as integers starting with 0, i.e. 0, 1, 2, ..., [num_class - 1].\n",
      "  warnings.warn(label_encoder_deprecation_msg, UserWarning)\n"
     ]
    },
    {
     "name": "stdout",
     "output_type": "stream",
     "text": [
      "[17:28:47] WARNING: C:/Users/Administrator/workspace/xgboost-win64_release_1.3.0/src/learner.cc:1061: Starting in XGBoost 1.3.0, the default evaluation metric used with the objective 'multi:softprob' was changed from 'merror' to 'mlogloss'. Explicitly set eval_metric if you'd like to restore the old behavior.\n",
      "Classification report : \n",
      "                                precision    recall  f1-score   support\n",
      "\n",
      "Extremely Severe Side Effects       0.44      0.97      0.61      4813\n",
      "            Mild Side Effects       0.62      0.35      0.45      4674\n",
      "        Moderate Side Effects       0.49      0.36      0.42      4796\n",
      "              No Side Effects       0.76      0.41      0.53      4874\n",
      "          Severe Side Effects       0.52      0.49      0.50      4843\n",
      "\n",
      "                     accuracy                           0.52     24000\n",
      "                    macro avg       0.56      0.52      0.50     24000\n",
      "                 weighted avg       0.56      0.52      0.50     24000\n",
      "\n"
     ]
    }
   ],
   "source": [
    "xgbc=XGBClassifier(random_state=123)\n",
    "xgbc.fit(X_train,y_train)\n",
    "y_pred=xgbc.predict(X_test)\n",
    "print(\"Classification report : \\n\",classification_report(y_test,y_pred))"
   ]
  },
  {
   "cell_type": "code",
   "execution_count": null,
   "metadata": {},
   "outputs": [],
   "source": [
    "svm_ra=SVC(kernel='rbf',C=20)\n",
    "svm_ra.fit(X_train,y_train)\n",
    "y_pred=svm_ra.predict(X_test)\n",
    "print(\"Classification report \\n\",classification_report(y_test,y_pred))"
   ]
  },
  {
   "cell_type": "code",
   "execution_count": 23,
   "metadata": {},
   "outputs": [
    {
     "name": "stdout",
     "output_type": "stream",
     "text": [
      "Classification report \n",
      "                                precision    recall  f1-score   support\n",
      "\n",
      "Extremely Severe Side Effects       0.48      0.52      0.50      4813\n",
      "            Mild Side Effects       0.42      0.43      0.42      4674\n",
      "        Moderate Side Effects       0.39      0.39      0.39      4796\n",
      "              No Side Effects       0.51      0.48      0.50      4874\n",
      "          Severe Side Effects       0.45      0.42      0.44      4843\n",
      "\n",
      "                     accuracy                           0.45     24000\n",
      "                    macro avg       0.45      0.45      0.45     24000\n",
      "                 weighted avg       0.45      0.45      0.45     24000\n",
      "\n"
     ]
    }
   ],
   "source": [
    "from sklearn.ensemble import ExtraTreesClassifier\n",
    "model = ExtraTreesClassifier(n_estimators=100, max_features=7)\n",
    "model.fit(X_train,y_train)\n",
    "y_pred=model.predict(X_test)\n",
    "print(\"Classification report \\n\",classification_report(y_test,y_pred))"
   ]
  },
  {
   "cell_type": "code",
   "execution_count": 27,
   "metadata": {},
   "outputs": [
    {
     "name": "stdout",
     "output_type": "stream",
     "text": [
      "Classification report \n",
      "                                precision    recall  f1-score   support\n",
      "\n",
      "Extremely Severe Side Effects       0.31      0.72      0.44      4813\n",
      "            Mild Side Effects       0.29      0.19      0.23      4674\n",
      "        Moderate Side Effects       0.22      0.12      0.15      4796\n",
      "              No Side Effects       0.37      0.27      0.31      4874\n",
      "          Severe Side Effects       0.29      0.21      0.24      4843\n",
      "\n",
      "                     accuracy                           0.30     24000\n",
      "                    macro avg       0.30      0.30      0.27     24000\n",
      "                 weighted avg       0.30      0.30      0.28     24000\n",
      "\n"
     ]
    }
   ],
   "source": [
    "from sklearn.ensemble import AdaBoostClassifier\n",
    "model = AdaBoostClassifier(n_estimators=100, random_state=123)\n",
    "model.fit(X_train,y_train)\n",
    "y_pred=model.predict(X_test)\n",
    "print(\"Classification report \\n\",classification_report(y_test,y_pred))"
   ]
  },
  {
   "cell_type": "code",
   "execution_count": null,
   "metadata": {},
   "outputs": [],
   "source": []
  }
 ],
 "metadata": {
  "kernelspec": {
   "display_name": "Python 3",
   "language": "python",
   "name": "python3"
  },
  "language_info": {
   "codemirror_mode": {
    "name": "ipython",
    "version": 3
   },
   "file_extension": ".py",
   "mimetype": "text/x-python",
   "name": "python",
   "nbconvert_exporter": "python",
   "pygments_lexer": "ipython3",
   "version": "3.8.3"
  }
 },
 "nbformat": 4,
 "nbformat_minor": 4
}
